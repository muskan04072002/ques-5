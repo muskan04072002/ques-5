{
 "cells": [
  {
   "cell_type": "code",
   "execution_count": 1,
   "id": "2b2db1c0",
   "metadata": {},
   "outputs": [
    {
     "name": "stdout",
     "output_type": "stream",
     "text": [
      "Given array is\n",
      "1 2 3 4 5 \n",
      "Rotated array is\n",
      "5 1 2 3 4 "
     ]
    }
   ],
   "source": [
    "#Program to cyclically rotate an array by one\n",
    "def rotate(arr, n):\n",
    "    x = arr[n - 1]\n",
    "     \n",
    "    for i in range(n - 1, 0, -1):\n",
    "        arr[i] = arr[i - 1];\n",
    "         \n",
    "    arr[0] = x;\n",
    " \n",
    " \n",
    "# Driver function\n",
    "arr= [1, 2, 3, 4, 5]\n",
    "n = len(arr)\n",
    "print (\"Given array is\")\n",
    "for i in range(0, n):\n",
    "    print (arr[i], end = ' ')\n",
    " \n",
    "rotate(arr, n)\n",
    "print (\"\\nRotated array is\")\n",
    "for i in range(0, n):\n",
    "    print (arr[i], end = ' ')"
   ]
  },
  {
   "cell_type": "code",
   "execution_count": null,
   "id": "a37b919c",
   "metadata": {},
   "outputs": [],
   "source": []
  }
 ],
 "metadata": {
  "kernelspec": {
   "display_name": "Python 3 (ipykernel)",
   "language": "python",
   "name": "python3"
  },
  "language_info": {
   "codemirror_mode": {
    "name": "ipython",
    "version": 3
   },
   "file_extension": ".py",
   "mimetype": "text/x-python",
   "name": "python",
   "nbconvert_exporter": "python",
   "pygments_lexer": "ipython3",
   "version": "3.9.12"
  }
 },
 "nbformat": 4,
 "nbformat_minor": 5
}
